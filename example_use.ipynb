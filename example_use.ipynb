{
 "cells": [
  {
   "cell_type": "markdown",
   "metadata": {},
   "source": [
    "## Example use\n",
    "\n",
    "Order of the observation name\n",
    "1. Cardiomegaly\n",
    "2. Edema\n",
    "3. Inspectra Lung Opacity v1\n",
    "4. Pleural Effusio\n",
    "5. Atelectasis\n",
    "6. Mass\n",
    "7. Nodule\n",
    "\n",
    "** If you want to use the model with CharacterBERT, let charbert = True when training or labeling."
   ]
  },
  {
   "cell_type": "markdown",
   "metadata": {},
   "source": [
    "### Train Model\n",
    "\n",
    "First, put both training and validation sets in csv file and preprocess (tokenize) their reports. Input reports should be in column 'Report Impression' and labels should be in columns follwing the order above. Then, tokenized reports will be saved as a list in json file."
   ]
  },
  {
   "cell_type": "code",
   "execution_count": null,
   "metadata": {},
   "outputs": [],
   "source": [
    "%run src/bert_tokenizer.py -d={path to input} -o={path to output} --charbert=False"
   ]
  },
  {
   "cell_type": "markdown",
   "metadata": {},
   "source": [
    "Next, run the following command to train the model and new checkpoint will be save to {path to new checkpoint folder}."
   ]
  },
  {
   "cell_type": "code",
   "execution_count": null,
   "metadata": {},
   "outputs": [],
   "source": [
    "%run src/run_bert.py --train_csv={path to training set} --dev_csv={path to validation set} --train_imp_list={path to preprocessed training set} --dev_imp_list={path to preprocessed validation set} --output_dir={path to new checkpoint folder} --checkpoint={path to original CheXbert} --charbert=False"
   ]
  },
  {
   "cell_type": "markdown",
   "metadata": {},
   "source": [
    "### Label Report\n",
    "\n",
    "Put input reports in csv file in column 'Report Impression'. Then, run the following command and output labels will be saved in csv file in columns following the order above."
   ]
  },
  {
   "cell_type": "code",
   "execution_count": null,
   "metadata": {},
   "outputs": [],
   "source": [
    "%run src/label.py -d={path to input} -o={path to output} -c={path to model}"
   ]
  },
  {
   "cell_type": "markdown",
   "metadata": {},
   "source": [
    "Note: Hyperparameters such as number of epochs or batch size can be set in 'src/constants.py'."
   ]
  },
  {
   "cell_type": "markdown",
   "metadata": {},
   "source": [
    "### Analyze Model\n",
    "\n",
    "First, put all inputs in csv file. Reports should be in column 'Report Impression' and labels should be in columns following the order above. Then, import functions from 'analysis.py'"
   ]
  },
  {
   "cell_type": "code",
   "execution_count": null,
   "metadata": {},
   "outputs": [],
   "source": [
    "from CheXbert.src.analysis import evaluate, findDiffData, number_of_diff, saveAllDiffData, saveDiffData_true"
   ]
  },
  {
   "cell_type": "markdown",
   "metadata": {},
   "source": [
    "Calculate scores of the model by comparing to human annotation. (Evaluation metrics include AUROC, Sensitivity, Specificity, PPV, NPV and Accuracy.)"
   ]
  },
  {
   "cell_type": "code",
   "execution_count": null,
   "metadata": {},
   "outputs": [],
   "source": [
    "evaluate('path to reports with actual label', 'path to reports with predicted label')"
   ]
  },
  {
   "cell_type": "markdown",
   "metadata": {},
   "source": [
    "Save different results between model and human annotation. (Outputs are saved to xlsx file and each observation will be in the different sheet.)"
   ]
  },
  {
   "cell_type": "code",
   "execution_count": null,
   "metadata": {},
   "outputs": [],
   "source": [
    "saveDiffData_true('path to reports with actual label', \n",
    "                  'path to reports with predicted label', \n",
    "                  'model name', \n",
    "                  'path to output')"
   ]
  },
  {
   "cell_type": "markdown",
   "metadata": {},
   "source": [
    "Save different results between 2 models (CheXbert, CheXcharacterBERT or Inspectra labeler)"
   ]
  },
  {
   "cell_type": "code",
   "execution_count": null,
   "metadata": {},
   "outputs": [],
   "source": [
    "saveAllDiffData('path to report with actual label', \n",
    "                'path to report with predicted label of model 1', \n",
    "                'path to report with predicted label of model 2', \n",
    "                'model 1 name', \n",
    "                'model 2 name', \n",
    "                'path to output')"
   ]
  },
  {
   "cell_type": "markdown",
   "metadata": {},
   "source": []
  }
 ],
 "metadata": {
  "kernelspec": {
   "display_name": "base",
   "language": "python",
   "name": "python3"
  },
  "language_info": {
   "codemirror_mode": {
    "name": "ipython",
    "version": 3
   },
   "file_extension": ".py",
   "mimetype": "text/x-python",
   "name": "python",
   "nbconvert_exporter": "python",
   "pygments_lexer": "ipython3",
   "version": "3.8.17"
  },
  "orig_nbformat": 4
 },
 "nbformat": 4,
 "nbformat_minor": 2
}
